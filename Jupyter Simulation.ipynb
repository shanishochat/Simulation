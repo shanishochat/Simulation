{
 "cells": [
  {
   "cell_type": "markdown",
   "metadata": {},
   "source": [
    "# Getting Started"
   ]
  },
  {
   "cell_type": "code",
   "execution_count": 1,
   "metadata": {
    "scrolled": true
   },
   "outputs": [],
   "source": [
    "# data analysis tools\n",
    "import pandas as pd\n",
    "import numpy as np\n",
    "import simpy\n",
    "import math\n",
    "from scipy import stats\n",
    "\n",
    "# graphic tools\n",
    "from tqdm import tqdm\n",
    "from pylab import plot, show, bar\n",
    "import matplotlib.pyplot as plt\n",
    "plt.style.use (\"ggplot\")"
   ]
  },
  {
   "cell_type": "code",
   "execution_count": 2,
   "metadata": {},
   "outputs": [
    {
     "data": {
      "text/plain": [
       "' how we have loaded the demand from trial\\nfile = pd.read_excel(\"trial.xls\",sheet_name = \"model_daily_demand\")\\ndemand = np.array(list(file[\"daily demand (patient)\"]))\\n'"
      ]
     },
     "execution_count": 2,
     "metadata": {},
     "output_type": "execute_result"
    }
   ],
   "source": [
    "# 5% of predicted demand (according to our model) => taken from trial.xls\n",
    "demand = [   142,   147,   153,   159,   165,   172,   178,   185,   192,   199,  \n",
    "             207,   215,   223,   231,   239,   248,   257,   266,   276,   285,\n",
    "             295,   306,   316,   327,   338,   349,   361,   373,   385,   397,\n",
    "             409,   422,   435,   448,   462,   475,   489,   503,   516,   531,\n",
    "             545,   559,   573,   588,   602,   616,   630,   645,   659,   673,\n",
    "             686,   700,   713,   726,   739,   752,   764,   776,   787,   798,\n",
    "             808,   818,   828,   837,   845,   852,   859,   866,   871,   876, \n",
    "             881,   884,   887,   889,   890,   891,   890,   889,   888,   885, \n",
    "             882,   878,   873,   868,   862,   856,   848,   840,   832,   823,\n",
    "             813,   803,   793,   782,   771,   759,   747,   735,   722,   709, \n",
    "             696,   683,   669,   656,   642,   628,   614,   600,   586,   573, \n",
    "             559,   545,   531,   518,   504,   491,   478,   465,   452,   439,\n",
    "             427,   414,   402,   390,   379,   367,   356,   345,   334,   324, \n",
    "             313,   303,   294,   284,   275,   266,   257,   248,   240,   232,\n",
    "             224,   216,   209,   202,   195,   188,   181,   175,   169,   163   ]\n",
    "\n",
    "\n",
    "\"\"\"\"\"\"\"\"\" how we have loaded the demand from trial\n",
    "file = pd.read_excel(\"trial.xls\",sheet_name = \"model_daily_demand\")\n",
    "demand = np.array(list(file[\"daily demand (patient)\"]))\n",
    "\"\"\"\"\"\"\"\"\""
   ]
  },
  {
   "cell_type": "markdown",
   "metadata": {},
   "source": [
    "# Simulation Objects"
   ]
  },
  {
   "cell_type": "code",
   "execution_count": 3,
   "metadata": {},
   "outputs": [],
   "source": [
    "class Patient (object):\n",
    "    def __init__(self, env): \n",
    "        self.env = env\n",
    "        \n",
    "        self.arrival_time_queue1 = 0\n",
    "        self.arrival_time_queue2 = 0\n",
    "        # sampling the patient's patiences for each queue\n",
    "        self.patience_automatic_machine = max (0, np.random.triangular (3/60, 4/60, 5/60))\n",
    "        self.patience_medical_staff = max (0, np.random.triangular (15/60, 20/60, 45/60))\n",
    "        \n",
    "        if np.random.uniform (0, 1) > 0.55:   #  the cumulative distribution of coverage - from part A\n",
    "            self.age = 1                      #  older than 65\n",
    "        else:\n",
    "            self.age = 0                      #  younger than 65"
   ]
  },
  {
   "cell_type": "code",
   "execution_count": 4,
   "metadata": {},
   "outputs": [],
   "source": [
    "class Clinic (object):\n",
    "    def __init__(self, env, automatic_machine, medical_staff):\n",
    "        self.env = env\n",
    "        self.automatic_machine = simpy.Resource (env, capacity = automatic_machine)     # a regular resource\n",
    "        self.medical_staff = simpy.Resource (env, capacity = medical_staff)             # a regular resource"
   ]
  },
  {
   "cell_type": "markdown",
   "metadata": {},
   "source": [
    "# Simulation Events"
   ]
  },
  {
   "cell_type": "code",
   "execution_count": 5,
   "metadata": {},
   "outputs": [],
   "source": [
    "def patient_arrivals (env, clinic):\n",
    "    global simulation_total_patients\n",
    "    \n",
    "    while env.now < clinic_open_hours:    # keep the clinic open for arrivals until the simulation time ends (12 hpurs)\n",
    "        yield env.timeout (np.random.exponential (clinic_open_hours/demand[day]))  # pausing the system for the patient's arrival\n",
    "        new_patient = Patient (env)                                                # creating new patient\n",
    "        simulation_total_patients+= 1                                              # updating number of patients arrived today\n",
    "        env.process (queue1 (env, clinic, new_patient))                   # enter the queue for getting a note from the machine"
   ]
  },
  {
   "cell_type": "code",
   "execution_count": 6,
   "metadata": {},
   "outputs": [],
   "source": [
    "def queue1 (env, clinic, patient):        # The queue for the automatic machine    \n",
    "    global simulation_wait_time_queue1\n",
    "    global simulation_service_time_queue1\n",
    "    global simulation_abandoning_patients_over_65_queue1\n",
    "    global simulation_abandoning_patients_under_65_queue1\n",
    "    \n",
    "    patient.arrival_time_queue1 = env.now                                # check in entrance time for queue 1\n",
    "    \n",
    "    with clinic.automatic_machine.request() as my_turn:                  # request to use automatic machines resource\n",
    "        result = yield my_turn | env.timeout (patient.patience_automatic_machine) \n",
    "        \n",
    "        # result => leave: the turn ended because the patient has left the clinic (the customer has no patience)\n",
    "        if my_turn not in result:                                      \n",
    "            wait_time = patient.patience_automatic_machine              \n",
    "            simulation_wait_time_queue1.append (wait_time)                   # documenting wait time\n",
    "            \n",
    "            # updating the number of abandoning patients, by age\n",
    "            if patient.age == 1: \n",
    "                simulation_abandoning_patients_over_65_queue1+= 1\n",
    "            else:\n",
    "                simulation_abandoning_patients_under_65_queue1+= 1\n",
    "\n",
    "        # result => service: the turn ended because the patient's turn has come\n",
    "        if my_turn in result:\n",
    "            wait_time = env.now - patient.arrival_time_queue1           \n",
    "            simulation_wait_time_queue1.append (wait_time)                  # documenting wait time\n",
    "            \n",
    "            # calculating the operation time of the patient, by age\n",
    "            if patient.age == 1:\n",
    "                service_time = max (0, np.random.normal (30/3600, 8/3600))  # time for people older 65 years old\n",
    "            else:  \n",
    "                service_time = max (0, np.random.normal (20/3600, 5/3600))  # time for people younger 65 years old\n",
    "            \n",
    "            yield env.timeout (service_time)                                # pausing the system for the operation time\n",
    "            simulation_service_time_queue1.append (service_time)            # documenting service time\n",
    "            env.process (queue2 (env, clinic, patient))                 # enter the queue for getting a vaccination from a nurse"
   ]
  },
  {
   "cell_type": "code",
   "execution_count": 7,
   "metadata": {},
   "outputs": [],
   "source": [
    "def queue2 (env ,clinic, patient):        # The queue for the medical staff\n",
    "    global simulation_wait_time_queue2\n",
    "    global simulation_service_time_queue2\n",
    "    global simulation_abandoning_patients_over_65_queue2\n",
    "    global simulation_abandoning_patients_under_65_queue2\n",
    "    global simulation_vaccinated_patients\n",
    "\n",
    "    patient.arrival_time_queue2 = env.now                              # check in entrance time for queue 2\n",
    "        \n",
    "    with clinic.medical_staff.request() as my_turn:                    # request to use medical_staff resource\n",
    "        result = yield my_turn | env.timeout (patient.patience_medical_staff)  \n",
    "        \n",
    "        # result => leave: the turn ended because the patient has left the clinic (the customer has no patience)\n",
    "        if my_turn not in result:\n",
    "            wait_time = patient.patience_medical_staff                 \n",
    "            simulation_wait_time_queue2.append (wait_time)                 # documenting wait time\n",
    "            \n",
    "            # updating the number of abandoning patients, by age\n",
    "            if patient.age == 1:\n",
    "                simulation_abandoning_patients_over_65_queue2+= 1\n",
    "            \n",
    "            else:\n",
    "                simulation_abandoning_patients_under_65_queue2+= 1\n",
    "\n",
    "        # result => service: the turn ended because the patient's turn has come\n",
    "        if my_turn in result:\n",
    "            wait_time = env.now - patient.arrival_time_queue2\n",
    "            simulation_wait_time_queue2.append (wait_time)                # documenting wait time\n",
    "            \n",
    "            # calculating the operation time of the patient\n",
    "            walk_time = np.random.uniform (20/3600, 60/3600)\n",
    "            vaccination_time = np.random.uniform (2/60, 3/60)\n",
    "            call_next_patient_time = 10/3600\n",
    "            service_time = vaccination_time + call_next_patient_time\n",
    "            \n",
    "            yield env.timeout (walk_time + service_time)                 # pausing the system for the operation time\n",
    "            simulation_service_time_queue2.append (service_time)         # documenting service time\n",
    "            simulation_vaccinated_patients+= 1                           # updating the number of vaccinated patients"
   ]
  },
  {
   "cell_type": "markdown",
   "metadata": {},
   "source": [
    "# Simulation Parameters"
   ]
  },
  {
   "cell_type": "code",
   "execution_count": 8,
   "metadata": {},
   "outputs": [],
   "source": [
    "clinic_open_hours = 12\n",
    "machine_maintance_hour = 20\n",
    "nurse_salary_hour = 55\n",
    "revenue_vaccination = 60\n",
    "cost_vaccination = 40\n",
    "cost_abandoners_over_65 = 10000\n",
    "cost_abandoners_under_65 = 5000\n",
    "num_of_machines = 2\n",
    "num_of_nurses = 5"
   ]
  },
  {
   "cell_type": "markdown",
   "metadata": {},
   "source": [
    "# Step 1.1: Finding Initial Values"
   ]
  },
  {
   "cell_type": "code",
   "execution_count": 9,
   "metadata": {
    "scrolled": true
   },
   "outputs": [
    {
     "name": "stderr",
     "output_type": "stream",
     "text": [
      "100%|██████████| 5/5 [01:10<00:00, 14.08s/it]\n"
     ]
    }
   ],
   "source": [
    "N0 = 5\n",
    "alpha = 0.05\n",
    "epsilon= 0.1\n",
    "random_seed = 42\n",
    "np.random.seed (random_seed)\n",
    "t = stats.t.ppf (1 - alpha/2, N0 - 1)\n",
    "z = stats.norm.ppf (1 - alpha/2)\n",
    "\n",
    "# data from every season simulation (5 arrays of 150 days)\n",
    "profit = np.zeros (shape = (N0, 150))\n",
    "\n",
    "wait_time = np.zeros (shape = (N0, 150))\n",
    "wait_time_queue1 = np.zeros (shape = (N0, 150))\n",
    "wait_time_queue2 = np.zeros (shape = (N0, 150))\n",
    "\n",
    "efficiency_machine = np.zeros (shape = (N0, 150))\n",
    "efficiency_medical_staff = np.zeros (shape = (N0, 150))\n",
    "\n",
    "abandoning_patients_over_65 = np.zeros (shape = (N0, 150))\n",
    "abandoning_patients_under_65 = np.zeros (shape = (N0, 150))\n",
    "abandoning_patients = np.zeros (shape = (N0, 150))\n",
    "\n",
    "vaccinated_patients = np.zeros (shape = (N0, 150))\n",
    "total_patients = np.zeros (shape = (N0, 150))\n",
    "\n",
    "for season in tqdm (range (N0)):\n",
    "    for day in range (150): #each iteration represents a day in season\n",
    "        # data from every-day simulation (reset each day)\n",
    "        simulation_wait_time_queue1 = []\n",
    "        simulation_wait_time_queue2 = []\n",
    "\n",
    "        simulation_service_time_queue1 = []\n",
    "        simulation_service_time_queue2 = []\n",
    "\n",
    "        simulation_abandoning_patients_over_65_queue1 = 0\n",
    "        simulation_abandoning_patients_over_65_queue2 = 0\n",
    "        \n",
    "        simulation_abandoning_patients_under_65_queue1 = 0\n",
    "        simulation_abandoning_patients_under_65_queue2 = 0\n",
    "        \n",
    "        simulation_total_patients = 0\n",
    "        simulation_vaccinated_patients = 0\n",
    "            \n",
    "        env = simpy.Environment ()\n",
    "        clinic = Clinic (env, 2, 5)\n",
    "        \n",
    "        # Start process and run\n",
    "        env.process (patient_arrivals (env, clinic))\n",
    "        env.run ()\n",
    "        clinic_actual_hours = env.now\n",
    "        \n",
    "        # Calculate parameters for each day of the season:\n",
    "        abandoning_patients_over_65[season][day]  = simulation_abandoning_patients_over_65_queue1 + \\\n",
    "                                                    simulation_abandoning_patients_over_65_queue2\n",
    "            \n",
    "        abandoning_patients_under_65[season][day] = simulation_abandoning_patients_under_65_queue1 + \\\n",
    "                                                    simulation_abandoning_patients_under_65_queue2\n",
    "        \n",
    "        abandoning_patients[season][day] = abandoning_patients_over_65[season][day] + \\\n",
    "                                           abandoning_patients_under_65[season][day]\n",
    "        \n",
    "        wait_time_queue1[season][day] = sum (simulation_wait_time_queue1)/simulation_total_patients\n",
    "        \n",
    "        wait_time_queue2[season][day] = sum (simulation_wait_time_queue2)/(simulation_total_patients - \\\n",
    "                                                                           simulation_abandoning_patients_over_65_queue1 - \\\n",
    "                                                                           simulation_abandoning_patients_under_65_queue1)\n",
    "        \n",
    "        wait_time[season][day] = wait_time_queue1[season][day] + wait_time_queue2[season][day]\n",
    "        \n",
    "        efficiency_machine[season][day] = sum (simulation_service_time_queue1)/(clinic_actual_hours*num_of_machines)\n",
    "        efficiency_medical_staff[season][day] = sum (simulation_service_time_queue2)/(clinic_actual_hours*num_of_nurses)\n",
    "        \n",
    "        vaccinated_patients[season][day] = simulation_vaccinated_patients\n",
    "        total_patients[season][day] = simulation_total_patients\n",
    "        \n",
    "        profit[season][day] = revenue_vaccination * simulation_vaccinated_patients - \\\n",
    "                              clinic_actual_hours * nurse_salary_hour * num_of_nurses - \\\n",
    "                              clinic_actual_hours * efficiency_machine[season][day] * machine_maintance_hour - \\\n",
    "                              cost_vaccination * simulation_total_patients - \\\n",
    "                              cost_abandoners_over_65 * abandoning_patients_over_65[season][day] - \\\n",
    "                              cost_abandoners_under_65 * abandoning_patients_under_65[season][day]"
   ]
  },
  {
   "cell_type": "code",
   "execution_count": 10,
   "metadata": {},
   "outputs": [],
   "source": [
    "# calculating all averages between days, in each season => array of 150 averages\n",
    "avg_wait_time = np.average (wait_time, axis = 0)\n",
    "avg_wait_time_queue1 = np.average (wait_time_queue1, axis = 0)\n",
    "avg_wait_time_queue2 = np.average (wait_time_queue2, axis = 0)\n",
    "avg_abandoning_patients = np.average (abandoning_patients, axis = 0)\n",
    "avg_efficiency_machine = np.average (efficiency_machine, axis = 0)\n",
    "avg_efficiency_medical_staff = np.average (efficiency_medical_staff, axis = 0)\n",
    "\n",
    "# calculating sum of profit every season => array of 5 seasonal profits\n",
    "sum_profit = np.sum(profit, axis = 1)"
   ]
  },
  {
   "cell_type": "code",
   "execution_count": 11,
   "metadata": {},
   "outputs": [],
   "source": [
    "# calculating all standard deviations between days, in each season => array of 150 std\n",
    "std_of_wait_time = np.std (wait_time, axis = 0)\n",
    "std_of_wait_time_queue1 = np.std (wait_time_queue1, axis = 0)\n",
    "std_of_wait_time_queue2 = np.std (wait_time_queue2, axis = 0)\n",
    "std_of_abandoning_patients = np.std (abandoning_patients, axis = 0)\n",
    "std_of_efficiency_machine = np.std (efficiency_machine, axis = 0)\n",
    "std_of_efficiency_medical_staff = np.std (efficiency_medical_staff, axis = 0)\n",
    "\n",
    "# calculating the standard deviation for season profit => 1 std\n",
    "std_of_profit = np.std (sum_profit)"
   ]
  },
  {
   "cell_type": "code",
   "execution_count": 12,
   "metadata": {},
   "outputs": [
    {
     "name": "stdout",
     "output_type": "stream",
     "text": [
      "--------- Daily Averages ---------\n",
      "Wait Time (for patient): 18.2007396002 seconds\n",
      "Wait Time (for patient) for Automatic Machine: 0.43980654557 seconds\n",
      "Wait Time (for patient) for Nurse: 17.7609330546 seconds\n",
      "Number of Abandoning Patients: 0.0 patients\n",
      "Efficiency for Automatic Machine: 14.302571612 %\n",
      "Efficiency for Nurse: 37.3634879691 %\n",
      "\n",
      "--------- Annual Averages ---------\n",
      "Profit: 1061808.83227 NIS\n",
      "Confidence Interval for Profit: [1060440.4449866777, 1063177.2195609189]\n"
     ]
    }
   ],
   "source": [
    "# calculating all scalar average values, due to the arrays\n",
    "A_wait_time = np.mean (avg_wait_time) \n",
    "A_wait_time_queue1 = np.mean (avg_wait_time_queue1)\n",
    "A_wait_time_queue2 = np.mean (avg_wait_time_queue2)\n",
    "A_abandoning_patients = np.mean (avg_abandoning_patients)\n",
    "A_efficiency_machine = np.mean (avg_efficiency_machine)\n",
    "A_efficiency_medical_staff = np.mean (avg_efficiency_medical_staff)\n",
    "A_profit = np.mean (sum_profit)\n",
    "A_profit_min = A_profit - (t * std_of_profit)/math.sqrt(N0)\n",
    "A_profit_max = A_profit + (t * std_of_profit)/math.sqrt(N0)\n",
    "\n",
    "print (\"--------- Daily Averages ---------\")\n",
    "print (\"Wait Time (for patient):\", A_wait_time * 3600, \"seconds\")\n",
    "print (\"Wait Time (for patient) for Automatic Machine:\", A_wait_time_queue1 * 3600, \"seconds\")\n",
    "print (\"Wait Time (for patient) for Nurse:\", A_wait_time_queue2 * 3600, \"seconds\")\n",
    "print (\"Number of Abandoning Patients:\", A_abandoning_patients, \"patients\")\n",
    "print (\"Efficiency for Automatic Machine:\", A_efficiency_machine * 100, \"%\")\n",
    "print (\"Efficiency for Nurse:\", A_efficiency_medical_staff * 100, \"%\")\n",
    "\n",
    "print (\"\\n--------- Annual Averages ---------\")\n",
    "print (\"Profit:\", A_profit, \"NIS\")\n",
    "print (\"Confidence Interval for Profit:\", [A_profit_min, A_profit_max])"
   ]
  },
  {
   "cell_type": "markdown",
   "metadata": {},
   "source": [
    "# Step 1.2: Calculating Number Of Iterations"
   ]
  },
  {
   "cell_type": "code",
   "execution_count": 13,
   "metadata": {},
   "outputs": [],
   "source": [
    "def Calculate_N_t (A_index, std_max, N):\n",
    "    h = epsilon * A_index\n",
    "    if h == 0:\n",
    "        h = 1\n",
    "        h0 = 0\n",
    "    h0 = (t * std_max)/math.sqrt(N)\n",
    "    N_max = N*(h0/h)**2\n",
    "    return math.ceil (N_max)"
   ]
  },
  {
   "cell_type": "code",
   "execution_count": 14,
   "metadata": {},
   "outputs": [],
   "source": [
    "def Calculate_N_z (A_index, std_max, p, N):\n",
    "    h = epsilon * A_index\n",
    "    if h == 0:\n",
    "        h = 1\n",
    "        h0 = 0\n",
    "    h0 = z * math.sqrt(p*(1-p)/N)\n",
    "    N_max = N*(h0/h)**2\n",
    "    return math.ceil (N_max)"
   ]
  },
  {
   "cell_type": "code",
   "execution_count": 15,
   "metadata": {
    "scrolled": true
   },
   "outputs": [
    {
     "name": "stdout",
     "output_type": "stream",
     "text": [
      "--------- Number of Iterations for Daily Averages ---------\n",
      "Wait Time (for patient): 4042\n",
      "Wait Time (for patient) for Automatic Machine: 464\n",
      "Wait Time (for patient) for Nurse: 4183\n",
      "Abandoning Patients: 0\n",
      "Efficiency for Automatic Machine: 2302\n",
      "Efficiency for Nurse: 338\n",
      "\n",
      "--------- Number of Iterations for Annual Averages ---------\n",
      "Profit: 1\n",
      "\n",
      "--------- Maximal Number of Iterations ---------\n",
      "N = 4183\n",
      "\n",
      "--------- Final Conclusion ---------\n",
      "Due to run-time constraints, we'll go through 20 iterations.\n"
     ]
    }
   ],
   "source": [
    "# finding the maximal standard deviation, which defines the maximal number of iterations needed\n",
    "max_std_wait_time = max (std_of_wait_time)\n",
    "max_std_wait_time_queue1 = max (std_of_wait_time_queue1)\n",
    "max_std_wait_time_queue2 = max (std_of_wait_time_queue2)\n",
    "max_std_abandoning_patients = max (std_of_abandoning_patients)\n",
    "max_std_efficiency_machine = max (std_of_efficiency_machine)\n",
    "max_std_efficiency_medical_staff = max (std_of_efficiency_medical_staff)\n",
    "max_std_profit = std_of_profit\n",
    "\n",
    "# using the functions above in order to calculate number of iterations for each index\n",
    "N_wait_time = Calculate_N_t (A_wait_time, max_std_wait_time, 150)\n",
    "N_wait_time_queue1 = Calculate_N_t (A_wait_time_queue1 , max_std_wait_time_queue1, 150)\n",
    "N_wait_time_queue2 = Calculate_N_t (A_wait_time_queue2 , max_std_wait_time_queue2, 150)\n",
    "N_abandoning_patients = Calculate_N_t (A_abandoning_patients, max_std_abandoning_patients, 150)\n",
    "N_efficiency_machine = Calculate_N_z (A_efficiency_machine, max_std_efficiency_machine, A_efficiency_machine, 150)\n",
    "N_efficiency_medical_staff = Calculate_N_z (A_efficiency_medical_staff, max_std_efficiency_medical_staff, A_efficiency_machine, 150)\n",
    "N_profit = Calculate_N_t (A_profit, max_std_profit, 5)\n",
    "\n",
    "print (\"--------- Number of Iterations for Daily Averages ---------\")\n",
    "print (\"Wait Time (for patient):\", N_wait_time)\n",
    "print (\"Wait Time (for patient) for Automatic Machine:\", N_wait_time_queue1)\n",
    "print (\"Wait Time (for patient) for Nurse:\", N_wait_time_queue2)\n",
    "print (\"Abandoning Patients:\", N_abandoning_patients)\n",
    "print (\"Efficiency for Automatic Machine:\", N_efficiency_machine)\n",
    "print (\"Efficiency for Nurse:\", N_efficiency_medical_staff)\n",
    "\n",
    "print (\"\\n--------- Number of Iterations for Annual Averages ---------\")\n",
    "print (\"Profit:\", N_profit)\n",
    "\n",
    "# choosing the index which demands the maximal iterations\n",
    "N_max = max (N_wait_time, N_wait_time_queue1, N_wait_time_queue2, N_abandoning_patients,\n",
    "             N_efficiency_machine, N_efficiency_medical_staff, N_profit)\n",
    "\n",
    "print (\"\\n--------- Maximal Number of Iterations ---------\")\n",
    "print (\"N =\", N_max)\n",
    "\n",
    "print (\"\\n--------- Final Conclusion ---------\")\n",
    "print (\"Due to run-time constraints, we'll go through\", max (N_profit, 20), \"iterations.\")"
   ]
  },
  {
   "cell_type": "markdown",
   "metadata": {},
   "source": [
    "# Step 2.1: Running Simulation (Current State)"
   ]
  },
  {
   "cell_type": "code",
   "execution_count": 16,
   "metadata": {},
   "outputs": [
    {
     "name": "stderr",
     "output_type": "stream",
     "text": [
      "100%|██████████| 20/20 [04:31<00:00, 13.55s/it]\n"
     ]
    }
   ],
   "source": [
    "N = 20\n",
    "alpha = 0.05\n",
    "epsilon= 0.1\n",
    "random_seed = 42\n",
    "np.random.seed (random_seed)\n",
    "t = stats.t.ppf (1 - alpha/2, N - 1)\n",
    "z = stats.norm.ppf (1 - alpha/2)\n",
    "\n",
    "# data from every season simulation (5 arrays of 150 days)\n",
    "profit = np.zeros (shape = (N, 150))\n",
    "\n",
    "wait_time = np.zeros (shape = (N, 150))\n",
    "wait_time_queue1 = np.zeros (shape = (N, 150))\n",
    "wait_time_queue2 = np.zeros (shape = (N, 150))\n",
    "\n",
    "efficiency_machine = np.zeros (shape = (N, 150))\n",
    "efficiency_medical_staff = np.zeros (shape = (N, 150))\n",
    "\n",
    "abandoning_patients_over_65 = np.zeros (shape = (N, 150))\n",
    "abandoning_patients_under_65 = np.zeros (shape = (N, 150))\n",
    "abandoning_patients = np.zeros (shape = (N, 150))\n",
    "\n",
    "vaccinated_patients = np.zeros (shape = (N, 150))\n",
    "total_patients = np.zeros (shape = (N, 150))\n",
    "\n",
    "for season in tqdm (range (N)):\n",
    "    for day in range (150):\n",
    "        # data from every-day simulation (reset each day)\n",
    "        simulation_wait_time_queue1 = []\n",
    "        simulation_wait_time_queue2 = []\n",
    "\n",
    "        simulation_service_time_queue1 = []\n",
    "        simulation_service_time_queue2 = []\n",
    "\n",
    "        simulation_abandoning_patients_over_65_queue1 = 0\n",
    "        simulation_abandoning_patients_over_65_queue2 = 0\n",
    "        \n",
    "        simulation_abandoning_patients_under_65_queue1 = 0\n",
    "        simulation_abandoning_patients_under_65_queue2 = 0\n",
    "        \n",
    "        simulation_total_patients = 0\n",
    "        simulation_vaccinated_patients = 0\n",
    "        \n",
    "        env = simpy.Environment ()\n",
    "        clinic = Clinic (env, 2, 5)\n",
    "        \n",
    "        # Start process and run\n",
    "        env.process (patient_arrivals (env, clinic))\n",
    "        env.run ()\n",
    "        clinic_actual_hours = env.now\n",
    "        \n",
    "        # Calculate parameters for each day of the season:\n",
    "        abandoning_patients_over_65[season][day]  = simulation_abandoning_patients_over_65_queue1 + \\\n",
    "                                                    simulation_abandoning_patients_over_65_queue2\n",
    "            \n",
    "        abandoning_patients_under_65[season][day] = simulation_abandoning_patients_under_65_queue1 + \\\n",
    "                                                    simulation_abandoning_patients_under_65_queue2\n",
    "        \n",
    "        abandoning_patients[season][day] = abandoning_patients_over_65[season][day] + \\\n",
    "                                           abandoning_patients_under_65[season][day]\n",
    "        \n",
    "        wait_time_queue1[season][day] = sum (simulation_wait_time_queue1)/simulation_total_patients\n",
    "        \n",
    "        wait_time_queue2[season][day] = sum (simulation_wait_time_queue2)/(simulation_total_patients - \\\n",
    "                                                                           simulation_abandoning_patients_over_65_queue1 - \\\n",
    "                                                                           simulation_abandoning_patients_under_65_queue1)\n",
    "        \n",
    "        wait_time[season][day] = wait_time_queue1[season][day] + wait_time_queue2[season][day]\n",
    "        \n",
    "        efficiency_machine[season][day] = sum (simulation_service_time_queue1)/(clinic_actual_hours*num_of_machines)\n",
    "        efficiency_medical_staff[season][day] = sum (simulation_service_time_queue2)/(clinic_actual_hours*num_of_nurses)\n",
    "        \n",
    "        vaccinated_patients[season][day] = simulation_vaccinated_patients\n",
    "        total_patients[season][day] = simulation_total_patients\n",
    "        \n",
    "        profit[season][day] = revenue_vaccination * simulation_vaccinated_patients - \\\n",
    "                              clinic_actual_hours * nurse_salary_hour * num_of_nurses - \\\n",
    "                              clinic_actual_hours * efficiency_machine[season][day] * machine_maintance_hour - \\\n",
    "                              cost_vaccination * simulation_total_patients - \\\n",
    "                              cost_abandoners_over_65 * abandoning_patients_over_65[season][day] - \\\n",
    "                              cost_abandoners_under_65 * abandoning_patients_under_65[season][day]"
   ]
  },
  {
   "cell_type": "markdown",
   "metadata": {},
   "source": [
    "# Step 2.2: Averages And Graphs (Current State)"
   ]
  },
  {
   "cell_type": "code",
   "execution_count": 17,
   "metadata": {},
   "outputs": [],
   "source": [
    "# calculating all averages between days, in each season => array of 150 averages\n",
    "avg_wait_time = np.average (wait_time, axis = 0)\n",
    "avg_wait_time_queue1 = np.average (wait_time_queue1, axis = 0)\n",
    "avg_wait_time_queue2 = np.average (wait_time_queue2, axis = 0)\n",
    "avg_abandoning_patients = np.average (abandoning_patients, axis = 0)\n",
    "avg_efficiency_machine = np.average (efficiency_machine, axis = 0)\n",
    "avg_efficiency_medical_staff = np.average (efficiency_medical_staff, axis = 0)\n",
    "\n",
    "# calculating sum of profit every season => array of 5 seasonal profits + standard deviation for C.I.\n",
    "sum_profit = np.sum (profit, axis = 1)\n",
    "std_of_profit = np.std (sum_profit)"
   ]
  },
  {
   "cell_type": "code",
   "execution_count": 18,
   "metadata": {},
   "outputs": [
    {
     "name": "stdout",
     "output_type": "stream",
     "text": [
      "--------- Daily Averages ---------\n",
      "Wait Time (for patient): 17.8556741803 seconds\n",
      "Wait Time (for patient) for Automatic Machine: 0.437332875545 seconds\n",
      "Wait Time (for patient) for Nurse: 17.4183413048 seconds\n",
      "Number of Abandoning Patients: 0.0 patients\n",
      "Efficiency for Automatic Machine: 14.2955643867 %\n",
      "Efficiency for Nurse: 37.3496938147 %\n",
      "\n",
      "--------- Annual Averages ---------\n",
      "Profit: 1061358.04736 NIS\n",
      "Confidence Interval for Profit: [1059767.5234044343, 1062948.5713231354]\n"
     ]
    }
   ],
   "source": [
    "# calculating all scalar average values, due to the arrays\n",
    "A_wait_time = np.mean (avg_wait_time) \n",
    "A_wait_time_queue1 = np.mean (avg_wait_time_queue1)\n",
    "A_wait_time_queue2 = np.mean (avg_wait_time_queue2)\n",
    "A_abandoning_patients = np.mean (avg_abandoning_patients)\n",
    "A_efficiency_machine = np.mean (avg_efficiency_machine)\n",
    "A_efficiency_medical_staff = np.mean (avg_efficiency_medical_staff)\n",
    "A_profit = np.mean (sum_profit)\n",
    "A_profit_min = A_profit - (t * std_of_profit)/math.sqrt(N)\n",
    "A_profit_max = A_profit + (t * std_of_profit)/math.sqrt(N)\n",
    "\n",
    "print (\"--------- Daily Averages ---------\")\n",
    "print (\"Wait Time (for patient):\", A_wait_time * 3600, \"seconds\")\n",
    "print (\"Wait Time (for patient) for Automatic Machine:\", A_wait_time_queue1 * 3600, \"seconds\")\n",
    "print (\"Wait Time (for patient) for Nurse:\", A_wait_time_queue2 * 3600, \"seconds\")\n",
    "print (\"Number of Abandoning Patients:\", A_abandoning_patients, \"patients\")\n",
    "print (\"Efficiency for Automatic Machine:\", A_efficiency_machine * 100, \"%\")\n",
    "print (\"Efficiency for Nurse:\", A_efficiency_medical_staff * 100, \"%\")\n",
    "\n",
    "print (\"\\n--------- Annual Averages ---------\")\n",
    "print (\"Profit:\", A_profit, \"NIS\")\n",
    "print (\"Confidence Interval for Profit:\", [A_profit_min, A_profit_max])"
   ]
  },
  {
   "cell_type": "code",
   "execution_count": 19,
   "metadata": {},
   "outputs": [
    {
     "data": {
      "image/png": "[encoded data removed]",
      "text/plain": [
       "<matplotlib.figure.Figure at 0x1fb7c257470>"
      ]
     },
     "metadata": {},
     "output_type": "display_data"
    }
   ],
   "source": [
    "# create data of the simulation results \n",
    "Tx = np.linspace (1, 150, 150)\n",
    "tx = avg_wait_time * 3600\n",
    "\n",
    "# create graph representing the daily results\n",
    "plt.plot (Tx, tx, 'o')\n",
    "plt.title (\"Average Wait Time for a Patient\")\n",
    "plt.xlabel (\"days\")\n",
    "plt.ylabel (\"wait time [seconds]\")\n",
    "plt.show ()"
   ]
  },
  {
   "cell_type": "code",
   "execution_count": 20,
   "metadata": {},
   "outputs": [
    {
     "data": {
      "image/png": "[encoded data removed]",
      "text/plain": [
       "<matplotlib.figure.Figure at 0x1fb7c24def0>"
      ]
     },
     "metadata": {},
     "output_type": "display_data"
    }
   ],
   "source": [
    "# create data of the simulation results \n",
    "Tx = np.linspace (1, 150, 150)\n",
    "x1 = avg_wait_time_queue1 * 3600\n",
    "x2 = avg_wait_time_queue2 * 3600\n",
    "\n",
    "# create graph representing the daily results\n",
    "plt.plot (Tx, x1, 'm', Tx, x2, 'b')\n",
    "plt.title (\"Average Wait Time for a Patient, by Queue\")\n",
    "plt.xlabel (\"days\")\n",
    "plt.ylabel (\"wait time [seconds]\")\n",
    "plt.legend (('automatic_machine line', 'vaccinations line'))\n",
    "plt.show ()"
   ]
  },
  {
   "cell_type": "code",
   "execution_count": 21,
   "metadata": {},
   "outputs": [
    {
     "data": {
      "image/png": "[encoded data removed]",
      "text/plain": [
       "<matplotlib.figure.Figure at 0x1fb7d555080>"
      ]
     },
     "metadata": {},
     "output_type": "display_data"
    }
   ],
   "source": [
    "# create data of the simulation results \n",
    "Tx = np.linspace (1, 150, 150)\n",
    "tx = avg_abandoning_patients\n",
    "\n",
    "# create graph representing the daily results\n",
    "plt.plot (Tx, tx, 'k')\n",
    "plt.title (\"Average Number of Abandoning Patients\")\n",
    "plt.xlabel (\"days\")\n",
    "plt.ylabel (\"number of abandoning patients [patients]\")\n",
    "plt.show ()"
   ]
  },
  {
   "cell_type": "code",
   "execution_count": 22,
   "metadata": {},
   "outputs": [
    {
     "data": {
      "image/png": "[encoded data removed]",
      "text/plain": [
       "<matplotlib.figure.Figure at 0x1fb7d634e48>"
      ]
     },
     "metadata": {},
     "output_type": "display_data"
    }
   ],
   "source": [
    "# create data of the simulation results \n",
    "Tx = np.linspace (1, 150, 150)\n",
    "x1 = (avg_efficiency_machine) * 100\n",
    "x2 = (avg_efficiency_medical_staff) * 100\n",
    "\n",
    "# create graph representing the daily results\n",
    "plt.plot (Tx, x1, 'm',Tx, x2, 'b')\n",
    "plt.title (\"Average Efficiency\")\n",
    "plt.xlabel (\"days\")\n",
    "plt.ylabel (\"efficiency [%]\")\n",
    "plt.legend (('automatic_machine line', 'vaccinations line'))\n",
    "plt.show ()"
   ]
  },
  {
   "cell_type": "markdown",
   "metadata": {},
   "source": [
    "# Step 3.1: Running Simulation (New State)"
   ]
  },
  {
   "cell_type": "code",
   "execution_count": 23,
   "metadata": {},
   "outputs": [
    {
     "name": "stderr",
     "output_type": "stream",
     "text": [
      "100%|██████████| 20/20 [04:28<00:00, 13.44s/it]\n"
     ]
    }
   ],
   "source": [
    "N = 20\n",
    "alpha = 0.05\n",
    "epsilon= 0.1\n",
    "t = stats.t.ppf (1 - alpha/2, N - 1)\n",
    "z = stats.norm.ppf (1 - alpha/2)\n",
    "\n",
    "random_seed = 42\n",
    "np.random.seed (random_seed)\n",
    "\n",
    "# data from every season simulation (5 arrays of 150 days)\n",
    "alternative_profit = np.zeros (shape = (N, 150))\n",
    "\n",
    "wait_time = np.zeros (shape = (N, 150))\n",
    "wait_time_queue1 = np.zeros (shape = (N, 150))\n",
    "wait_time_queue2 = np.zeros (shape = (N, 150))\n",
    "\n",
    "efficiency_machine = np.zeros (shape = (N, 150))\n",
    "efficiency_medical_staff = np.zeros (shape = (N, 150))\n",
    "\n",
    "abandoning_patients_over_65 = np.zeros (shape = (N, 150))\n",
    "abandoning_patients_under_65 = np.zeros (shape = (N, 150))\n",
    "abandoning_patients = np.zeros (shape = (N, 150))\n",
    "\n",
    "vaccinated_patients = np.zeros (shape = (N, 150))\n",
    "total_patients = np.zeros (shape = (N, 150))\n",
    "\n",
    "for season in tqdm (range (N)):\n",
    "    for day in range (150):\n",
    "        # data from every day simulation - reset each day\n",
    "        simulation_wait_time_queue1 = []\n",
    "        simulation_wait_time_queue2 = []\n",
    "\n",
    "        simulation_service_time_queue1 = []\n",
    "        simulation_service_time_queue2 = []\n",
    "\n",
    "        simulation_abandoning_patients_over_65_queue1 = 0\n",
    "        simulation_abandoning_patients_over_65_queue2 = 0\n",
    "        \n",
    "        simulation_abandoning_patients_under_65_queue1 = 0\n",
    "        simulation_abandoning_patients_under_65_queue2 = 0\n",
    "        \n",
    "        simulation_total_patients = 0\n",
    "        simulation_vaccinated_patients = 0\n",
    "        env = simpy.Environment ()\n",
    "        \n",
    "        # set the resources, due to the day\n",
    "        if    day < 20:            # days   1 -  20\n",
    "            num_of_machines = 1\n",
    "            num_of_nurses = 2\n",
    "            \n",
    "        elif  20  <= day < 30:     # days  21 -  30\n",
    "            num_of_machines = 1\n",
    "            num_of_nurses = 3\n",
    "            \n",
    "        elif  30  <= day < 50:     # days  31 -  50\n",
    "            num_of_machines = 2\n",
    "            num_of_nurses = 4\n",
    "            \n",
    "        elif  50  <= day <= 100:   # days  51 - 101\n",
    "            num_of_machines = 2\n",
    "            num_of_nurses = 5\n",
    "            \n",
    "        elif 100  < day <= 120:    # days 102 - 121\n",
    "            num_of_machines = 2\n",
    "            num_of_nurses = 4\n",
    "\n",
    "        elif 120  < day <= 130:    # days 122 - 131\n",
    "            num_of_machines = 1\n",
    "            num_of_nurses = 3\n",
    "            \n",
    "        elif 130  < day < 150:     # days 132 - 150\n",
    "            num_of_machines = 1\n",
    "            num_of_nurses = 2\n",
    "        \n",
    "        clinic = Clinic (env, num_of_machines, num_of_nurses)\n",
    "        \n",
    "        # Start process and run\n",
    "        env.process (patient_arrivals (env, clinic))\n",
    "        env.run ()\n",
    "        clinic_actual_hours = env.now\n",
    "    \n",
    "        # Calculate parameters for each day of the season:\n",
    "        abandoning_patients_over_65[season][day]  = simulation_abandoning_patients_over_65_queue1 + \\\n",
    "                                                    simulation_abandoning_patients_over_65_queue2\n",
    "            \n",
    "        abandoning_patients_under_65[season][day] = simulation_abandoning_patients_under_65_queue1 + \\\n",
    "                                                    simulation_abandoning_patients_under_65_queue2\n",
    "        \n",
    "        abandoning_patients[season][day] = abandoning_patients_over_65[season][day] + \\\n",
    "                                           abandoning_patients_under_65[season][day]\n",
    "        \n",
    "        wait_time_queue1[season][day] = sum (simulation_wait_time_queue1)/simulation_total_patients\n",
    "        \n",
    "        wait_time_queue2[season][day] = sum (simulation_wait_time_queue2)/(simulation_total_patients - \\\n",
    "                                                                           simulation_abandoning_patients_over_65_queue1 - \\\n",
    "                                                                           simulation_abandoning_patients_under_65_queue1)\n",
    "        \n",
    "        wait_time[season][day] = wait_time_queue1[season][day] + wait_time_queue2[season][day]\n",
    "        \n",
    "        efficiency_machine[season][day] = sum (simulation_service_time_queue1)/(clinic_actual_hours*num_of_machines)\n",
    "        efficiency_medical_staff[season][day] = sum (simulation_service_time_queue2)/(clinic_actual_hours*num_of_nurses)\n",
    "        \n",
    "        vaccinated_patients[season][day] = simulation_vaccinated_patients\n",
    "        total_patients[season][day] = simulation_total_patients\n",
    "        \n",
    "        alternative_profit[season][day] = revenue_vaccination * simulation_vaccinated_patients - \\\n",
    "                                          clinic_actual_hours * nurse_salary_hour * num_of_nurses - \\\n",
    "                                          clinic_actual_hours * efficiency_machine[season][day] * machine_maintance_hour - \\\n",
    "                                          cost_vaccination * simulation_total_patients - \\\n",
    "                                          cost_abandoners_over_65 * abandoning_patients_over_65[season][day] - \\\n",
    "                                          cost_abandoners_under_65 * abandoning_patients_under_65[season][day]"
   ]
  },
  {
   "cell_type": "markdown",
   "metadata": {},
   "source": [
    "# Step 3.2: Averages And Graphs (New State)"
   ]
  },
  {
   "cell_type": "code",
   "execution_count": 24,
   "metadata": {},
   "outputs": [],
   "source": [
    "# calculating all averages between days, in each season => array of 150 averages\n",
    "avg_wait_time = np.average (wait_time, axis = 0)\n",
    "avg_wait_time_queue1 = np.average (wait_time_queue1, axis = 0)\n",
    "avg_wait_time_queue2 = np.average (wait_time_queue2, axis = 0)\n",
    "avg_abandoning_patients = np.average (abandoning_patients, axis = 0)\n",
    "avg_efficiency_machine = np.average (efficiency_machine, axis = 0)\n",
    "avg_efficiency_medical_staff = np.average (efficiency_medical_staff, axis = 0)\n",
    "\n",
    "# calculating sum of profit every season => array of 5 seasonal profits + standard deviation for C.I.\n",
    "alternative_sum_profit = np.sum (alternative_profit, axis = 1)\n",
    "alternative_std_of_profit = np.std (alternative_sum_profit)"
   ]
  },
  {
   "cell_type": "code",
   "execution_count": 25,
   "metadata": {
    "scrolled": true
   },
   "outputs": [
    {
     "name": "stdout",
     "output_type": "stream",
     "text": [
      "--------- Daily Averages ---------\n",
      "Wait Time (for patient): 37.658209458 seconds\n",
      "Wait Time (for patient) for Automatic Machine: 1.35162604225 seconds\n",
      "Wait Time (for patient) for Nurse: 36.3065834157 seconds\n",
      "Number of Abandoning Patients: 0.0 patients\n",
      "Efficiency for Automatic Machine: 17.1199111757 %\n",
      "Efficiency for Nurse: 48.2050495438 %\n",
      "\n",
      "--------- Annual Averages ---------\n",
      "Profit: 1195897.36924 NIS\n",
      "Confidence Interval for Profit: [1193154.9437273506, 1198639.7947426878]\n"
     ]
    }
   ],
   "source": [
    "# out of these arrays, calculating all scalar average values\n",
    "A_wait_time = np.mean (avg_wait_time) \n",
    "A_wait_time_queue1 = np.mean (avg_wait_time_queue1)\n",
    "A_wait_time_queue2 = np.mean (avg_wait_time_queue2)\n",
    "A_abandoning_patients = np.mean (avg_abandoning_patients)\n",
    "alternative_A_efficiency_machine = np.mean (avg_efficiency_machine)\n",
    "alternative_A_efficiency_medical_staff = np.mean (avg_efficiency_medical_staff)\n",
    "alternative_A_profit = np.mean (alternative_sum_profit)\n",
    "alternative_A_profit_min = alternative_A_profit - (t * alternative_std_of_profit)/math.sqrt(N)\n",
    "alternative_A_profit_max = alternative_A_profit + (t * alternative_std_of_profit)/math.sqrt(N)\n",
    "\n",
    "print (\"--------- Daily Averages ---------\")\n",
    "print (\"Wait Time (for patient):\", A_wait_time * 3600, \"seconds\")\n",
    "print (\"Wait Time (for patient) for Automatic Machine:\", A_wait_time_queue1 * 3600, \"seconds\")\n",
    "print (\"Wait Time (for patient) for Nurse:\", A_wait_time_queue2 * 3600, \"seconds\")\n",
    "print (\"Number of Abandoning Patients:\", A_abandoning_patients, \"patients\")\n",
    "print (\"Efficiency for Automatic Machine:\", alternative_A_efficiency_machine * 100, \"%\")\n",
    "print (\"Efficiency for Nurse:\", alternative_A_efficiency_medical_staff * 100, \"%\")\n",
    "\n",
    "print (\"\\n--------- Annual Averages ---------\")\n",
    "print (\"Profit:\", alternative_A_profit, \"NIS\")\n",
    "print (\"Confidence Interval for Profit:\", [alternative_A_profit_min, alternative_A_profit_max])"
   ]
  },
  {
   "cell_type": "code",
   "execution_count": 26,
   "metadata": {},
   "outputs": [
    {
     "name": "stdout",
     "output_type": "stream",
     "text": [
      "\n",
      "--------- Improvements ---------\n",
      "In average, the annual profit raised in 12.676148469 %\n",
      "In average, the efficiency of the machine raised in 2.82434678903 %\n",
      "In average, the efficiency of the medical staff raised in 10.8553557291 %\n"
     ]
    }
   ],
   "source": [
    "profit_improve = (alternative_A_profit/A_profit - 1) * 100\n",
    "machine_improve = (alternative_A_efficiency_machine - A_efficiency_machine) * 100\n",
    "medical_staff_improve = (alternative_A_efficiency_medical_staff - A_efficiency_medical_staff) * 100\n",
    "\n",
    "print (\"\\n--------- Improvements ---------\")\n",
    "print (\"In average, the annual profit raised in\", profit_improve, \"%\")\n",
    "print (\"In average, the efficiency of the machine raised in\", machine_improve, \"%\")\n",
    "print (\"In average, the efficiency of the medical staff raised in\", medical_staff_improve, \"%\")"
   ]
  },
  {
   "cell_type": "code",
   "execution_count": 27,
   "metadata": {},
   "outputs": [
    {
     "data": {
      "image/png": "[encoded data removed]",
      "text/plain": [
       "<matplotlib.figure.Figure at 0x1fb7d6f2748>"
      ]
     },
     "metadata": {},
     "output_type": "display_data"
    }
   ],
   "source": [
    "# create data of the simulation results \n",
    "Tx = np.linspace (1, 150, 150)\n",
    "tx = avg_wait_time * 3600\n",
    "\n",
    "# create graph representing the daily results\n",
    "plt.plot (Tx, tx, 'o')\n",
    "plt.title (\"Average Wait Time for a Patient\")\n",
    "plt.xlabel (\"days\")\n",
    "plt.ylabel (\"wait time [seconds]\")\n",
    "plt.show ()"
   ]
  },
  {
   "cell_type": "code",
   "execution_count": 28,
   "metadata": {},
   "outputs": [
    {
     "data": {
      "image/png": "[encoded data removed]",
      "text/plain": [
       "<matplotlib.figure.Figure at 0x1fb7d7115f8>"
      ]
     },
     "metadata": {},
     "output_type": "display_data"
    }
   ],
   "source": [
    "# create data of the simulation results \n",
    "Tx = np.linspace (1, 150, 150)\n",
    "x1 = avg_wait_time_queue1 * 3600\n",
    "x2 = avg_wait_time_queue2 * 3600\n",
    "\n",
    "# create graph representing the daily results\n",
    "plt.plot (Tx, x1, 'm', Tx, x2, 'b')\n",
    "plt.title (\"Average Wait Time for a Patient, by Queue\")\n",
    "plt.xlabel (\"days\")\n",
    "plt.ylabel (\"wait time [seconds]\")\n",
    "plt.legend (('automatic_machine line', 'vaccinations line'))\n",
    "plt.show ()"
   ]
  },
  {
   "cell_type": "code",
   "execution_count": 29,
   "metadata": {},
   "outputs": [
    {
     "data": {
      "image/png": "[encoded data removed]",
      "text/plain": [
       "<matplotlib.figure.Figure at 0x1fb7d6a41d0>"
      ]
     },
     "metadata": {},
     "output_type": "display_data"
    }
   ],
   "source": [
    "# create data of the simulation results \n",
    "Tx = np.linspace (1, 150, 150)\n",
    "tx = avg_abandoning_patients\n",
    "\n",
    "# create graph representing the daily results\n",
    "plt.plot (Tx, tx, 'k')\n",
    "plt.title (\"Average Number of Abandoning Patients\")\n",
    "plt.xlabel (\"days\")\n",
    "plt.ylabel (\"number of abandoning patients [patients]\")\n",
    "plt.show ()"
   ]
  },
  {
   "cell_type": "code",
   "execution_count": 30,
   "metadata": {},
   "outputs": [
    {
     "data": {
      "image/png": "[encoded data removed]",
      "text/plain": [
       "<matplotlib.figure.Figure at 0x1fb7c54e080>"
      ]
     },
     "metadata": {},
     "output_type": "display_data"
    }
   ],
   "source": [
    "# create data of the simulation results \n",
    "Tx = np.linspace (1, 150, 150)\n",
    "x1 = (avg_efficiency_machine) * 100\n",
    "x2 = (avg_efficiency_medical_staff) * 100\n",
    "\n",
    "# create graph representing the daily results\n",
    "plt.plot (Tx, x1, 'm',Tx, x2, 'b')\n",
    "plt.title (\"Average Efficiency\")\n",
    "plt.xlabel (\"days\")\n",
    "plt.ylabel (\"efficiency [%]\")\n",
    "plt.legend (('automatic_machine line', 'vaccinations line'))\n",
    "plt.show ()"
   ]
  },
  {
   "cell_type": "code",
   "execution_count": 31,
   "metadata": {},
   "outputs": [
    {
     "data": {
      "image/png": "[encoded data removed]",
      "text/plain": [
       "<matplotlib.figure.Figure at 0x1fb7d747198>"
      ]
     },
     "metadata": {},
     "output_type": "display_data"
    }
   ],
   "source": [
    "# create data of the profit results \n",
    "D = {u'Current State': A_profit, u'New State': alternative_A_profit}\n",
    "\n",
    "# create graph representing the profit results in both states\n",
    "dictionary = plt.figure()\n",
    "plt.title (\"Average Annual Profit\")\n",
    "plt.bar (range(len(D)), D.values (), align= 'center')\n",
    "plt.xticks (range(len(D)), D.keys ())\n",
    "plt.ylabel (\"NIS\")\n",
    "plt.show ()"
   ]
  },
  {
   "cell_type": "markdown",
   "metadata": {
    "collapsed": true
   },
   "source": [
    "# Step 3.3: Two-Way Speculation Test for Profit Expectation"
   ]
  },
  {
   "cell_type": "markdown",
   "metadata": {},
   "source": [
    "## H0: μ2 - μ1 = 0\n",
    "## H1: μ2 - μ1 ≠ 0"
   ]
  },
  {
   "cell_type": "code",
   "execution_count": 32,
   "metadata": {},
   "outputs": [
    {
     "name": "stdout",
     "output_type": "stream",
     "text": [
      "Confidence interval for the profit's difference (between new and current state): [131843.18589004944, 137235.45785241848]\n",
      "The alternative profit expectation: 1195897.36924 NIS, is higher than the current profit expectation: 1061358.04736 NIS\n",
      "in confidence level of 95.0 %\n"
     ]
    }
   ],
   "source": [
    "miu2 = alternative_A_profit\n",
    "miu1 = A_profit\n",
    "\n",
    "Difference_Profit = alternative_sum_profit - sum_profit\n",
    "std = np.std (Difference_Profit)\n",
    "t = stats.t.ppf (1 - alpha/2, N - 1)\n",
    "h0 = (t * std)/math.sqrt(N)\n",
    "d = np.mean (Difference_Profit)\n",
    "\n",
    "print (\"Confidence interval for the profit's difference (between new and current state):\", [d - h0, d + h0])\n",
    "\n",
    "if d - h0 > 0 and d + h0 > 0:\n",
    "    print (\"The alternative profit expectation:\", miu2, \"NIS, is higher than the current profit expectation:\", miu1, \"NIS\")\n",
    "    print (\"in confidence level of\", (1 - alpha) * 100, \"%\")\n",
    "\n",
    "else:\n",
    "    print (\"The alternative profit expectation:\", miu2, \"NIS, is not higher than the current profit expectation:\", miu1, \"NIS\")\n",
    "    print (\"in confidence level of\", (1 - alpha) * 100, \"%\")"
   ]
  }
 ],
 "metadata": {
  "kernelspec": {
   "display_name": "Python 3",
   "language": "python",
   "name": "python3"
  },
  "language_info": {
   "codemirror_mode": {
    "name": "ipython",
    "version": 3
   },
   "file_extension": ".py",
   "mimetype": "text/x-python",
   "name": "python",
   "nbconvert_exporter": "python",
   "pygments_lexer": "ipython3",
   "version": "3.6.3"
  }
 },
 "nbformat": 4,
 "nbformat_minor": 2
}
